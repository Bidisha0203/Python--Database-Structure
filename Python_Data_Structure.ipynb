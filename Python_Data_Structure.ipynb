{
  "nbformat": 4,
  "nbformat_minor": 0,
  "metadata": {
    "colab": {
      "provenance": []
    },
    "kernelspec": {
      "name": "python3",
      "display_name": "Python 3"
    },
    "language_info": {
      "name": "python"
    }
  },
  "cells": [
    {
      "cell_type": "markdown",
      "source": [
        "#Python - Data Structure"
      ],
      "metadata": {
        "id": "vNCtvqV9ZtvQ"
      }
    },
    {
      "cell_type": "markdown",
      "source": [
        "##Theoretical Question & Answer"
      ],
      "metadata": {
        "id": "PO-v3Q3saCOS"
      }
    },
    {
      "cell_type": "markdown",
      "source": [
        "###1. What are data structures, and why are they important?\n",
        "\n",
        "Answer:Data structures are ways of organizing and storing data so that operations such as access, insertion, deletion, and modification can be performed efficiently. They are crucial for optimizing algorithms and improving program performance."
      ],
      "metadata": {
        "id": "FTaUiz2-aHbd"
      }
    },
    {
      "cell_type": "markdown",
      "source": [
        "###2. Explain the difference between mutable and immutable data types with examples.\n",
        "\n",
        "Answer: Mutable data can be changed after creation. Example: list, dict whereas immutable data cannot be changed after creation. Example: str, tuple."
      ],
      "metadata": {
        "id": "wkGESnEDaZH3"
      }
    },
    {
      "cell_type": "markdown",
      "source": [],
      "metadata": {
        "id": "oPy6Zc5OanuS"
      }
    },
    {
      "cell_type": "markdown",
      "source": [
        "###3. What are the main differences between lists and tuples in Python?\n",
        "\n",
        "Answer: List data is mutable, slower, uses more memory whereas tuples are immutable, faster, uses less memory."
      ],
      "metadata": {
        "id": "6zFNbyL1auoq"
      }
    },
    {
      "cell_type": "markdown",
      "source": [
        "###4. Describe how dictionaries store data.\n",
        "\n",
        "Answer: Dictionaries store data as key-value pairs using a hash table for efficient lookups."
      ],
      "metadata": {
        "id": "-sPy3yDsbG7i"
      }
    },
    {
      "cell_type": "markdown",
      "source": [
        "###5. Why might you use a set instead of a list in Python?\n",
        "\n",
        "Answer: Sets automatically remove duplicates and provide faster membership tests than lists."
      ],
      "metadata": {
        "id": "XxWM5qhdbQyM"
      }
    },
    {
      "cell_type": "markdown",
      "source": [
        "###6. What is a string in Python, and how is it different from a list?\n",
        "\n",
        "Answer: A string is an immutable sequence of characters, whereas a list is a mutable sequence of elements."
      ],
      "metadata": {
        "id": "SScufko2baP1"
      }
    },
    {
      "cell_type": "markdown",
      "source": [
        "###7. How do tuples ensure data integrity in Python?\n",
        "\n",
        "Answer: Being immutable, tuples prevent accidental changes to the data, ensuring data integrity."
      ],
      "metadata": {
        "id": "eZihrF8Qbg2m"
      }
    },
    {
      "cell_type": "markdown",
      "source": [
        "###8. What is a hash table, and how does it relate to dictionaries in Python?\n",
        "\n",
        "Answer: A hash table maps keys to values using a hash function; Python dictionaries are implemented using hash tables."
      ],
      "metadata": {
        "id": "NBUDoQDJbpO1"
      }
    },
    {
      "cell_type": "markdown",
      "source": [
        "###9. Can lists contain different data types in Python?\n",
        "\n",
        "Answer: Yes, lists can contain elements of different data types."
      ],
      "metadata": {
        "id": "3mUvvs9zcSH3"
      }
    },
    {
      "cell_type": "markdown",
      "source": [
        "###10. Explain why strings are immutable in Python.\n",
        "\n",
        "Answer: Strings are immutable to ensure performance, security, and thread safety"
      ],
      "metadata": {
        "id": "picCc1sZcY-o"
      }
    },
    {
      "cell_type": "markdown",
      "source": [
        "###11. What advantages do dictionaries offer over lists for certain tasks?\n",
        "\n",
        "Answer: Faster lookups by key, no need to search linearly like in lists."
      ],
      "metadata": {
        "id": "Pzrmon6jcgM3"
      }
    },
    {
      "cell_type": "markdown",
      "source": [
        "###12. Describe a scenario where using a tuple would be preferable over a list.\n",
        "\n",
        "Answer: When storing configuration settings that shouldn't be modified."
      ],
      "metadata": {
        "id": "8a5VFcjScola"
      }
    },
    {
      "cell_type": "markdown",
      "source": [
        "###13. How do sets handle duplicate values in Python?\n",
        "\n",
        "Answer: Sets automatically discard duplicate values."
      ],
      "metadata": {
        "id": "lXldoOADcuZw"
      }
    },
    {
      "cell_type": "markdown",
      "source": [
        "###14. How does the “in” keyword work differently for lists and dictionaries?\n",
        "\n",
        "Answer: For list it checks for value presence where as for dictionary it checks for key presence."
      ],
      "metadata": {
        "id": "8L4lfX27c1q7"
      }
    },
    {
      "cell_type": "markdown",
      "source": [
        "###15. Can you modify the elements of a tuple? Explain why or why not.\n",
        "\n",
        "Answer: No, tuples are immutable, so their elements cannot be modified."
      ],
      "metadata": {
        "id": "EzWZztd7dSzz"
      }
    },
    {
      "cell_type": "markdown",
      "source": [
        "###16. What is a nested dictionary, and give an example of its use case.\n",
        "\n",
        "Answer: A dictionary containing another dictionary.\n",
        "Example: {\"person\": {\"name\": \"Alice\", \"age\": 30}}"
      ],
      "metadata": {
        "id": "xkvLvf3BdcUl"
      }
    },
    {
      "cell_type": "markdown",
      "source": [
        "###17. Describe the time complexity of accessing elements in a dictionary.\n",
        "\n",
        "Answer: On average, O(1) due to hashing."
      ],
      "metadata": {
        "id": "eSMNa9vGdmk8"
      }
    },
    {
      "cell_type": "markdown",
      "source": [
        "###18. In what situations are lists preferred over dictionaries?\n",
        "\n",
        "Answer: When order matters or when storing sequences without keys."
      ],
      "metadata": {
        "id": "lxAbMzz2dt0h"
      }
    },
    {
      "cell_type": "markdown",
      "source": [
        "###19. Why are dictionaries considered unordered, and how does that affect data retrieval?\n",
        "\n",
        "Answer: Until Python 3.6, dictionaries didn’t maintain insertion order; retrieval is by key, not position."
      ],
      "metadata": {
        "id": "fsK8SGuUd6Zk"
      }
    },
    {
      "cell_type": "markdown",
      "source": [
        "###20. Explain the difference between a list and a dictionary in terms of data retrieval.\n",
        "\n",
        "Answer: For List, data is retrieved by index whereas for dictionary, data is retrieved by key.\n",
        "\n"
      ],
      "metadata": {
        "id": "-gGfwDNreBMN"
      }
    },
    {
      "cell_type": "markdown",
      "source": [
        "##Practical Question & Answer"
      ],
      "metadata": {
        "id": "IekGmuxveS27"
      }
    },
    {
      "cell_type": "markdown",
      "source": [
        "###1. Write a code to create a string with your name and print it"
      ],
      "metadata": {
        "id": "_JH-FAXZeXUe"
      }
    },
    {
      "cell_type": "code",
      "source": [
        "#Answer\n",
        "\n",
        "name = \"Bidisha Das\"\n",
        "print(name)"
      ],
      "metadata": {
        "colab": {
          "base_uri": "https://localhost:8080/"
        },
        "id": "7VhLELgTer0k",
        "outputId": "da5250a8-5a23-4ad0-9a0b-4dd7a8a184a8"
      },
      "execution_count": null,
      "outputs": [
        {
          "output_type": "stream",
          "name": "stdout",
          "text": [
            "Bidisha Das\n"
          ]
        }
      ]
    },
    {
      "cell_type": "markdown",
      "source": [
        "###2. Write a code to find the length of the string \"Hello World\""
      ],
      "metadata": {
        "id": "fXpkJDiBe6AC"
      }
    },
    {
      "cell_type": "code",
      "source": [
        "#Answer\n",
        "\n",
        "print(len(\"Hello World\"))"
      ],
      "metadata": {
        "colab": {
          "base_uri": "https://localhost:8080/"
        },
        "id": "AJ0Zy_AgfCgY",
        "outputId": "15763040-4bdb-4572-af04-5e71fa94064b"
      },
      "execution_count": null,
      "outputs": [
        {
          "output_type": "stream",
          "name": "stdout",
          "text": [
            "11\n"
          ]
        }
      ]
    },
    {
      "cell_type": "markdown",
      "source": [
        "###3. Write a code to slice the first 3 characters from the string \"Python Programming\""
      ],
      "metadata": {
        "id": "S38fbIh5fP9N"
      }
    },
    {
      "cell_type": "code",
      "source": [
        "#Answer\n",
        "\n",
        "text = \"Python Programming\"\n",
        "print(text[:3])"
      ],
      "metadata": {
        "colab": {
          "base_uri": "https://localhost:8080/"
        },
        "id": "EcN_Y67tfJnI",
        "outputId": "03a4216d-75a6-4691-8284-580302dfcf06"
      },
      "execution_count": null,
      "outputs": [
        {
          "output_type": "stream",
          "name": "stdout",
          "text": [
            "Pyt\n"
          ]
        }
      ]
    },
    {
      "cell_type": "markdown",
      "source": [
        "###4. Write a code to convert the string \"hello\" to uppercase"
      ],
      "metadata": {
        "id": "c5MB8hNOfYdo"
      }
    },
    {
      "cell_type": "code",
      "source": [
        "#Answer\n",
        "\n",
        "print(\"hello\".upper())"
      ],
      "metadata": {
        "colab": {
          "base_uri": "https://localhost:8080/"
        },
        "id": "t7rfp9Dwxz8c",
        "outputId": "e971a138-395c-4adb-ecc3-ca9ee3e5db39"
      },
      "execution_count": null,
      "outputs": [
        {
          "output_type": "stream",
          "name": "stdout",
          "text": [
            "HELLO\n"
          ]
        }
      ]
    },
    {
      "cell_type": "markdown",
      "source": [
        "###5. Write a code to replace the word \"apple\" with \"orange\" in the string \"I like apple\""
      ],
      "metadata": {
        "id": "1c8FMFPhic-5"
      }
    },
    {
      "cell_type": "code",
      "source": [
        "#Answer\n",
        "\n",
        "print(\"I like apple\".replace(\"apple\", \"orange\"))"
      ],
      "metadata": {
        "colab": {
          "base_uri": "https://localhost:8080/"
        },
        "id": "fTbrd7evygYV",
        "outputId": "57e9735a-c73d-45b4-e6f4-7682b647ca97"
      },
      "execution_count": null,
      "outputs": [
        {
          "output_type": "stream",
          "name": "stdout",
          "text": [
            "I like orange\n"
          ]
        }
      ]
    },
    {
      "cell_type": "markdown",
      "source": [
        "###6. Write a code to create a list with numbers 1 to 5 and print it\n",
        "\n"
      ],
      "metadata": {
        "id": "gDRUN7a8fgx_"
      }
    },
    {
      "cell_type": "code",
      "source": [
        "#Answer\n",
        "\n",
        "numbers = [1, 2, 3, 4, 5]\n",
        "print(numbers)"
      ],
      "metadata": {
        "colab": {
          "base_uri": "https://localhost:8080/"
        },
        "id": "XPnoELHSy6nu",
        "outputId": "7077e584-e251-4500-ae96-b96b0931370a"
      },
      "execution_count": null,
      "outputs": [
        {
          "output_type": "stream",
          "name": "stdout",
          "text": [
            "[1, 2, 3, 4, 5]\n"
          ]
        }
      ]
    },
    {
      "cell_type": "markdown",
      "source": [
        "###7. Write a code to append the number 10 to the list [1, 2, 3, 4]"
      ],
      "metadata": {
        "id": "KUpspd1Iflqq"
      }
    },
    {
      "cell_type": "code",
      "source": [
        "#Answer\n",
        "\n",
        "list = [1, 2, 3, 4]\n",
        "list.append(10)\n",
        "print(list)"
      ],
      "metadata": {
        "colab": {
          "base_uri": "https://localhost:8080/"
        },
        "id": "X7WE_b_EzvNg",
        "outputId": "50928bb6-8f00-4dd2-bc11-77437d3bc211"
      },
      "execution_count": null,
      "outputs": [
        {
          "output_type": "stream",
          "name": "stdout",
          "text": [
            "[1, 2, 3, 4, 10]\n"
          ]
        }
      ]
    },
    {
      "cell_type": "markdown",
      "source": [
        "###8. Write a code to remove the number 3 from the list [1, 2, 3, 4, 5]"
      ],
      "metadata": {
        "id": "ne0bTK6Mfpum"
      }
    },
    {
      "cell_type": "code",
      "source": [
        "#Answer\n",
        "\n",
        "list = [1, 2, 3, 4, 5]\n",
        "list.remove(3)\n",
        "print(list)"
      ],
      "metadata": {
        "colab": {
          "base_uri": "https://localhost:8080/"
        },
        "id": "1Xskd3Pt0Jqp",
        "outputId": "ff0688ae-f3da-471f-c149-aace92b1c7cf"
      },
      "execution_count": null,
      "outputs": [
        {
          "output_type": "stream",
          "name": "stdout",
          "text": [
            "[1, 2, 4, 5]\n"
          ]
        }
      ]
    },
    {
      "cell_type": "markdown",
      "source": [
        "###9. Write a code to access the second element in the list ['a', 'b', 'c', 'd']"
      ],
      "metadata": {
        "id": "eIZByDpZf5KU"
      }
    },
    {
      "cell_type": "code",
      "source": [
        "#Answer\n",
        "\n",
        "list = ['a', 'b', 'c', 'd']\n",
        "print(list[1])"
      ],
      "metadata": {
        "colab": {
          "base_uri": "https://localhost:8080/"
        },
        "id": "uNA7oeEx0cSY",
        "outputId": "c07d1c4e-c4fd-449f-a52b-fd66effa3350"
      },
      "execution_count": null,
      "outputs": [
        {
          "output_type": "stream",
          "name": "stdout",
          "text": [
            "b\n"
          ]
        }
      ]
    },
    {
      "cell_type": "markdown",
      "source": [
        "###10. Write a code to reverse the list [10, 20, 30, 40, 50]"
      ],
      "metadata": {
        "id": "xhXk4nncf9uj"
      }
    },
    {
      "cell_type": "code",
      "source": [
        "list = [10, 20, 30, 40, 50]\n",
        "list.reverse()\n",
        "print(list)"
      ],
      "metadata": {
        "colab": {
          "base_uri": "https://localhost:8080/"
        },
        "id": "aRYBQRSF0t_n",
        "outputId": "8fbefa39-359f-4a06-f53e-80ff1f5c10a1"
      },
      "execution_count": null,
      "outputs": [
        {
          "output_type": "stream",
          "name": "stdout",
          "text": [
            "[50, 40, 30, 20, 10]\n"
          ]
        }
      ]
    },
    {
      "cell_type": "markdown",
      "source": [
        "###11. Write a code to create a tuple with the elements 100, 200, 300 and print it"
      ],
      "metadata": {
        "id": "656dPO_BgCTl"
      }
    },
    {
      "cell_type": "code",
      "source": [
        "#Answer\n",
        "\n",
        "element = (100, 200, 300)\n",
        "print(element)"
      ],
      "metadata": {
        "colab": {
          "base_uri": "https://localhost:8080/"
        },
        "id": "gFIDqFV52dnv",
        "outputId": "556ed31d-3328-41be-ab3c-a52280a84639"
      },
      "execution_count": null,
      "outputs": [
        {
          "output_type": "stream",
          "name": "stdout",
          "text": [
            "(100, 200, 300)\n"
          ]
        }
      ]
    },
    {
      "cell_type": "markdown",
      "source": [
        "###12. Write a code to access the second-to-last element of the tuple ('red', 'green', 'blue', 'yellow')"
      ],
      "metadata": {
        "id": "6pWfGY7aggHA"
      }
    },
    {
      "cell_type": "code",
      "source": [
        "#Answer\n",
        "\n",
        "colour_tuple = ('red', 'green', 'blue', 'yellow')\n",
        "print(colour_tuple[-2])"
      ],
      "metadata": {
        "id": "bZ8Glbxj3phv",
        "colab": {
          "base_uri": "https://localhost:8080/"
        },
        "outputId": "fe195784-e933-4fb0-e870-453ceee313c2"
      },
      "execution_count": 2,
      "outputs": [
        {
          "output_type": "stream",
          "name": "stdout",
          "text": [
            "blue\n"
          ]
        }
      ]
    },
    {
      "cell_type": "markdown",
      "source": [
        "###13. Write a code to find the minimum number in the tuple (10, 20, 5, 15)"
      ],
      "metadata": {
        "id": "xq5o_p39gkjw"
      }
    },
    {
      "cell_type": "code",
      "source": [
        "#Answer\n",
        "\n",
        "number = (10, 20, 5, 15)\n",
        "print(min(number))"
      ],
      "metadata": {
        "id": "6FnecYb94lUf",
        "colab": {
          "base_uri": "https://localhost:8080/"
        },
        "outputId": "a1a4fec8-6963-444f-b8e6-ca6336a4fcaf"
      },
      "execution_count": 3,
      "outputs": [
        {
          "output_type": "stream",
          "name": "stdout",
          "text": [
            "5\n"
          ]
        }
      ]
    },
    {
      "cell_type": "markdown",
      "source": [
        "###14. Write a code to find the index of the element \"cat\" in the tuple ('dog', 'cat', 'rabbit')"
      ],
      "metadata": {
        "id": "HwsNuiFagqnN"
      }
    },
    {
      "cell_type": "code",
      "source": [
        "#Answer\n",
        "\n",
        "animals = ('dog', 'cat', 'rabbit')\n",
        "print(animals.index(\"cat\"))"
      ],
      "metadata": {
        "colab": {
          "base_uri": "https://localhost:8080/"
        },
        "id": "4kMWWV9h0sTb",
        "outputId": "1ff0357c-7222-4b04-ae77-4e9f66896a2b"
      },
      "execution_count": 4,
      "outputs": [
        {
          "output_type": "stream",
          "name": "stdout",
          "text": [
            "1\n"
          ]
        }
      ]
    },
    {
      "cell_type": "markdown",
      "source": [
        "###15. Write a code to create a tuple containing three different fruits and check if \"kiwi\" is in it"
      ],
      "metadata": {
        "id": "Pn0HqLpHgvir"
      }
    },
    {
      "cell_type": "code",
      "source": [
        "#Answer\n",
        "\n",
        "fruits = (\"mango\", \"cherry\", \"strawberry\")\n",
        "print(\"kiwi\" in fruits)"
      ],
      "metadata": {
        "colab": {
          "base_uri": "https://localhost:8080/"
        },
        "id": "C8UjRHs50zFF",
        "outputId": "ac57965f-ed6c-4647-d922-fb8abfd745b1"
      },
      "execution_count": 6,
      "outputs": [
        {
          "output_type": "stream",
          "name": "stdout",
          "text": [
            "False\n"
          ]
        }
      ]
    },
    {
      "cell_type": "markdown",
      "source": [
        "###16. Write a code to create a set with the elements 'a', 'b', 'c' and print it"
      ],
      "metadata": {
        "id": "4XEniBQ7g0pf"
      }
    },
    {
      "cell_type": "code",
      "source": [
        "#Answer\n",
        "\n",
        "s = {'a', 'b', 'c'}\n",
        "print(s)"
      ],
      "metadata": {
        "colab": {
          "base_uri": "https://localhost:8080/"
        },
        "id": "_GH72jAF06LI",
        "outputId": "44d38062-3982-44e1-bfcf-5e8ef87cfe6e"
      },
      "execution_count": 7,
      "outputs": [
        {
          "output_type": "stream",
          "name": "stdout",
          "text": [
            "{'b', 'c', 'a'}\n"
          ]
        }
      ]
    },
    {
      "cell_type": "markdown",
      "source": [
        "###17. Write a code to clear all elements from the set {1, 2, 3, 4, 5}"
      ],
      "metadata": {
        "id": "V08XqBM8g5DL"
      }
    },
    {
      "cell_type": "code",
      "source": [
        "#Answer\n",
        "\n",
        "s = {1, 2, 3, 4, 5}\n",
        "s.clear()\n",
        "print(s)"
      ],
      "metadata": {
        "colab": {
          "base_uri": "https://localhost:8080/"
        },
        "id": "2tBGYT2D1J3D",
        "outputId": "e66f22da-26ef-42f2-b550-ecd799da76b6"
      },
      "execution_count": 8,
      "outputs": [
        {
          "output_type": "stream",
          "name": "stdout",
          "text": [
            "set()\n"
          ]
        }
      ]
    },
    {
      "cell_type": "markdown",
      "source": [
        "###18. Write a code to remove the element 4 from the set {1, 2, 3, 4}"
      ],
      "metadata": {
        "id": "4FjimSGIg-p5"
      }
    },
    {
      "cell_type": "code",
      "source": [
        "#Answer\n",
        "\n",
        "s = {1, 2, 3, 4}\n",
        "s.remove(4)\n",
        "print(s)"
      ],
      "metadata": {
        "colab": {
          "base_uri": "https://localhost:8080/"
        },
        "id": "k62yE7Fv1Ryp",
        "outputId": "a5fb38bb-2212-48ee-ab75-e1c65855f559"
      },
      "execution_count": 9,
      "outputs": [
        {
          "output_type": "stream",
          "name": "stdout",
          "text": [
            "{1, 2, 3}\n"
          ]
        }
      ]
    },
    {
      "cell_type": "markdown",
      "source": [
        "##19. Write a code to find the union of two sets {1, 2, 3} and {3, 4, 5}"
      ],
      "metadata": {
        "id": "hxyvyI8UhC5e"
      }
    },
    {
      "cell_type": "code",
      "source": [
        "#Answer\n",
        "\n",
        "a = {1, 2, 3}\n",
        "b = {3, 4, 5}\n",
        "print(a.union(b))"
      ],
      "metadata": {
        "colab": {
          "base_uri": "https://localhost:8080/"
        },
        "id": "YmuJdrpW1XlU",
        "outputId": "f8e57a8e-11af-4ed7-fc47-9a1126965f34"
      },
      "execution_count": 10,
      "outputs": [
        {
          "output_type": "stream",
          "name": "stdout",
          "text": [
            "{1, 2, 3, 4, 5}\n"
          ]
        }
      ]
    },
    {
      "cell_type": "markdown",
      "source": [
        "###20. Write a code to find the intersection of two sets {1, 2, 3} and {2, 3, 4}"
      ],
      "metadata": {
        "id": "hz3T55rehH5M"
      }
    },
    {
      "cell_type": "code",
      "source": [
        "#Answer\n",
        "\n",
        "a = {1, 2, 3}\n",
        "b = {2, 3, 4}\n",
        "print(a.intersection(b))"
      ],
      "metadata": {
        "colab": {
          "base_uri": "https://localhost:8080/"
        },
        "id": "cfW4VmYu1dFo",
        "outputId": "58dcbc59-222f-43dd-e655-46ec89ccf2fa"
      },
      "execution_count": 11,
      "outputs": [
        {
          "output_type": "stream",
          "name": "stdout",
          "text": [
            "{2, 3}\n"
          ]
        }
      ]
    },
    {
      "cell_type": "markdown",
      "source": [
        "###21. Write a code to create a dictionary with the keys \"name\", \"age\", and \"city\", and print it"
      ],
      "metadata": {
        "id": "ldJbYvKdhTmO"
      }
    },
    {
      "cell_type": "code",
      "source": [
        "#Answer\n",
        "\n",
        "person = {\"name\": \"Bidisha\", \"age\": 27, \"city\": \"Kolkata\"}\n",
        "print(person)"
      ],
      "metadata": {
        "colab": {
          "base_uri": "https://localhost:8080/"
        },
        "id": "hIw5PCbf1lJF",
        "outputId": "22e3ecde-5660-494d-a061-ae14157787c6"
      },
      "execution_count": 13,
      "outputs": [
        {
          "output_type": "stream",
          "name": "stdout",
          "text": [
            "{'name': 'Bidisha', 'age': 27, 'city': 'Kolkata'}\n"
          ]
        }
      ]
    },
    {
      "cell_type": "markdown",
      "source": [
        "###22. Write a code to add a new key-value pair \"country\": \"USA\" to the dictionary {'name': 'John', 'age': 25}"
      ],
      "metadata": {
        "id": "ZXWM8vXMhYoU"
      }
    },
    {
      "cell_type": "code",
      "source": [
        "#Answer\n",
        "\n",
        "person = {'name': 'John', 'age': 25}\n",
        "person[\"country\"] = \"USA\"\n",
        "print(person)"
      ],
      "metadata": {
        "colab": {
          "base_uri": "https://localhost:8080/"
        },
        "id": "IfxaQHHv1zkP",
        "outputId": "f2d3d15f-b18d-42dc-d70d-ba270d980bbb"
      },
      "execution_count": 14,
      "outputs": [
        {
          "output_type": "stream",
          "name": "stdout",
          "text": [
            "{'name': 'John', 'age': 25, 'country': 'USA'}\n"
          ]
        }
      ]
    },
    {
      "cell_type": "markdown",
      "source": [
        "###23. Write a code to access the value associated with the key \"name\" in the dictionary {'name': 'Alice', 'age': 30}"
      ],
      "metadata": {
        "id": "0l4kpk6hhftF"
      }
    },
    {
      "cell_type": "code",
      "source": [
        "#Answer\n",
        "\n",
        "person = {'name': 'Alice', 'age': 30}\n",
        "print(person[\"name\"])"
      ],
      "metadata": {
        "colab": {
          "base_uri": "https://localhost:8080/"
        },
        "id": "fwByvi2S1-AI",
        "outputId": "a6c0483f-b8c7-4e5c-cf3b-37b6b846300b"
      },
      "execution_count": 15,
      "outputs": [
        {
          "output_type": "stream",
          "name": "stdout",
          "text": [
            "Alice\n"
          ]
        }
      ]
    },
    {
      "cell_type": "markdown",
      "source": [
        "###24. Write a code to remove the key \"age\" from the dictionary {'name': 'Bob', 'age': 22, 'city': 'New York'}"
      ],
      "metadata": {
        "id": "SFWEj7xxhkyF"
      }
    },
    {
      "cell_type": "code",
      "source": [
        "#Answer\n",
        "\n",
        "person = {'name': 'Bob', 'age': 22, 'city': 'New York'}\n",
        "del person[\"age\"]\n",
        "print(person)"
      ],
      "metadata": {
        "colab": {
          "base_uri": "https://localhost:8080/"
        },
        "id": "r1ehgL2t2DLN",
        "outputId": "bdb3c402-f184-4441-a322-434ded1b0711"
      },
      "execution_count": 16,
      "outputs": [
        {
          "output_type": "stream",
          "name": "stdout",
          "text": [
            "{'name': 'Bob', 'city': 'New York'}\n"
          ]
        }
      ]
    },
    {
      "cell_type": "markdown",
      "source": [
        "###25. Write a code to check if the key \"city\" exists in the dictionary {'name': 'Alice', 'city': 'Paris'}"
      ],
      "metadata": {
        "id": "rtKbsVzihwbB"
      }
    },
    {
      "cell_type": "code",
      "source": [
        "#Answer\n",
        "\n",
        "person = {'name': 'Alice', 'city': 'Paris'}\n",
        "print(\"city\" in person)"
      ],
      "metadata": {
        "colab": {
          "base_uri": "https://localhost:8080/"
        },
        "id": "pTgiWpCm2IFx",
        "outputId": "5d85522a-5c8e-4871-c9d2-4bf706201321"
      },
      "execution_count": 17,
      "outputs": [
        {
          "output_type": "stream",
          "name": "stdout",
          "text": [
            "True\n"
          ]
        }
      ]
    },
    {
      "cell_type": "markdown",
      "source": [
        "###26. Write a code to create a list, a tuple, and a dictionary, and print them all"
      ],
      "metadata": {
        "id": "v9H9XTfkh2BP"
      }
    },
    {
      "cell_type": "code",
      "source": [
        "#Answer\n",
        "\n",
        "list = [1, 2, 3]\n",
        "tuple = (4, 5, 6)\n",
        "dictionary = {\"a\": 1, \"b\": 2}\n",
        "print(list, tuple, dictionary)"
      ],
      "metadata": {
        "colab": {
          "base_uri": "https://localhost:8080/"
        },
        "id": "GF949iVG2WG5",
        "outputId": "50fbb4e9-2f9c-4e59-956f-465d4c138768"
      },
      "execution_count": 18,
      "outputs": [
        {
          "output_type": "stream",
          "name": "stdout",
          "text": [
            "[1, 2, 3] (4, 5, 6) {'a': 1, 'b': 2}\n"
          ]
        }
      ]
    },
    {
      "cell_type": "markdown",
      "source": [
        "###27. Write a code to create a list of 5 random numbers between 1 and 100, sort it in ascending order, and print the result"
      ],
      "metadata": {
        "id": "zGYTIegTiDF0"
      }
    },
    {
      "cell_type": "code",
      "source": [
        "#Answer\n",
        "\n",
        "import random\n",
        "nums = [random.randint(1, 100) for _ in range(5)]\n",
        "nums.sort()\n",
        "print(nums)"
      ],
      "metadata": {
        "colab": {
          "base_uri": "https://localhost:8080/"
        },
        "id": "0tN96AJW2of0",
        "outputId": "90067005-4a81-4a12-aede-f303b9fd9f7c"
      },
      "execution_count": 20,
      "outputs": [
        {
          "output_type": "stream",
          "name": "stdout",
          "text": [
            "[7, 9, 19, 36, 51]\n"
          ]
        }
      ]
    },
    {
      "cell_type": "markdown",
      "source": [
        "###28. Write a code to create a list with strings and print the element at the third index"
      ],
      "metadata": {
        "id": "CLSxluU4iJn1"
      }
    },
    {
      "cell_type": "code",
      "source": [
        "#Answer\n",
        "\n",
        "strings = [\"money\", \"life\", \"mountain\", \"smile\", \"love\", \"family\"]\n",
        "print(strings[3])"
      ],
      "metadata": {
        "colab": {
          "base_uri": "https://localhost:8080/"
        },
        "id": "z7whjBx32ySJ",
        "outputId": "889ac661-186a-4d7e-b039-1ce67a3d415c"
      },
      "execution_count": 21,
      "outputs": [
        {
          "output_type": "stream",
          "name": "stdout",
          "text": [
            "smile\n"
          ]
        }
      ]
    },
    {
      "cell_type": "markdown",
      "source": [
        "###29. Write a code to combine two dictionaries into one and print the result"
      ],
      "metadata": {
        "id": "LmF8Kn29iPO8"
      }
    },
    {
      "cell_type": "code",
      "source": [
        "#Answer\n",
        "\n",
        "d1 = {\"apple\": 40, \"banana\": 20}\n",
        "d2 = {\"cherry\": 30, \"mango\": 64}\n",
        "d1.update(d2)\n",
        "print(d1)"
      ],
      "metadata": {
        "colab": {
          "base_uri": "https://localhost:8080/"
        },
        "id": "349Xjsph3Gmj",
        "outputId": "499f5cc3-b2ec-4d8c-9d43-381eb5184756"
      },
      "execution_count": 23,
      "outputs": [
        {
          "output_type": "stream",
          "name": "stdout",
          "text": [
            "{'apple': 40, 'banana': 20, 'cherry': 30, 'mango': 64}\n"
          ]
        }
      ]
    },
    {
      "cell_type": "markdown",
      "source": [
        "###30. Write a code to convert a list of strings into a set"
      ],
      "metadata": {
        "id": "HEU1QhmviUjp"
      }
    },
    {
      "cell_type": "code",
      "source": [
        "#Answer\n",
        "\n",
        "list = [\"London\", \"Paris\", \"New York\"]\n",
        "print(set(list))"
      ],
      "metadata": {
        "colab": {
          "base_uri": "https://localhost:8080/"
        },
        "id": "0FtVU3Nd3iPe",
        "outputId": "8fc2874d-6122-4476-ea4a-0fa0b59f819b"
      },
      "execution_count": 24,
      "outputs": [
        {
          "output_type": "stream",
          "name": "stdout",
          "text": [
            "{'New York', 'London', 'Paris'}\n"
          ]
        }
      ]
    }
  ]
}